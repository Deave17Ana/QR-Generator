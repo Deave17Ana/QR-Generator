{
 "cells": [
  {
   "cell_type": "code",
   "execution_count": 3,
   "id": "b3c78a28",
   "metadata": {},
   "outputs": [
    {
     "name": "stdout",
     "output_type": "stream",
     "text": [
      "Requirement already satisfied: qrcode in /Users/devanshverma/opt/anaconda3/lib/python3.9/site-packages (8.1)\n",
      "Requirement already satisfied: pillow in /Users/devanshverma/opt/anaconda3/lib/python3.9/site-packages (9.0.1)\n"
     ]
    }
   ],
   "source": [
    "!pip install qrcode\n",
    "!pip install pillow"
   ]
  },
  {
   "cell_type": "code",
   "execution_count": 9,
   "id": "c948308d",
   "metadata": {},
   "outputs": [],
   "source": [
    "import qrcode\n",
    "qr = qrcode.QRCode(\n",
    "    version=1,\n",
    "    error_correction=qrcode.constants.ERROR_CORRECT_H,\n",
    "    box_size=10,\n",
    "    border=4,\n",
    ")\n",
    "qr.add_data(\"https://github.com/Deave17Ana\")\n",
    "qr.make(fit=True)\n",
    "\n",
    "img = qr.make_image(fill_color='blue', back_color='white')\n",
    "img.show()"
   ]
  },
  {
   "cell_type": "code",
   "execution_count": null,
   "id": "d824d5c1",
   "metadata": {},
   "outputs": [],
   "source": []
  }
 ],
 "metadata": {
  "kernelspec": {
   "display_name": "base",
   "language": "python",
   "name": "python3"
  },
  "language_info": {
   "codemirror_mode": {
    "name": "ipython",
    "version": 3
   },
   "file_extension": ".py",
   "mimetype": "text/x-python",
   "name": "python",
   "nbconvert_exporter": "python",
   "pygments_lexer": "ipython3",
   "version": "3.9.12"
  }
 },
 "nbformat": 4,
 "nbformat_minor": 5
}
